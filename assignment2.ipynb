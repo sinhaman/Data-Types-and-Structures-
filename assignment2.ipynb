{
 "cells": [
  {
   "cell_type": "markdown",
   "id": "69a84a47",
   "metadata": {},
   "source": [
    "    #THEORY QUESTIONS"
   ]
  },
  {
   "cell_type": "markdown",
   "id": "d33e26de",
   "metadata": {},
   "source": [
    "Q1.What are data structures, and why are they important?\n",
    "    Ans:Data structures are ways of organizing and storing data in a computer so that it can be accessed and modified efficiently. Ds plays an important role in organizing data in computer so that the efficiency,Scalability, and memory management can improve.\n"
   ]
  },
  {
   "cell_type": "markdown",
   "id": "7a8a19b8",
   "metadata": {},
   "source": [
    "Q2.Explain the difference between mutable and immutable data types with examples?\n",
    "    Ans:A mutable data type is that whose value or content can be changed after the object is created. This means you can modify the data in place without having to create a new object.\n",
    "    EX.LIST\n",
    "    my_list = [1, 2, 3]\n",
    "my_list[0] = 10  # Modify an element\n",
    "my_list.append(4)  # Add an element\n",
    "print(my_list)  # Output: [10, 2, 3, 4]\n",
    "\n",
    "An immutable data type is That whose value or content cannot be changed after it is created. If you attempt to modify an immutable object, you will create a new object with the modified value instead.\n",
    "EX. STRING\n",
    "my_str = \"Hello\"\n",
    "new_str[0]= 'a'  # gives error\n",
    "\n"
   ]
  },
  {
   "cell_type": "markdown",
   "id": "f8c34789",
   "metadata": {},
   "source": [
    "Q3.What are the main differences between lists and tuples in Python?\n",
    "    Ans:LIST- list are those type of data structure which is mutable in nature, and able to store different  data types.It also stores element in ordered way.\n",
    "    TUPLE: Tuple are those type of data structure which is immutable in nature, and able to store different  data types.It also stores element in ordered way.It is used to store the data which is not further changable."
   ]
  },
  {
   "cell_type": "markdown",
   "id": "2859c42c",
   "metadata": {},
   "source": [
    "Q4.Describe how dictionaries store data?\n",
    "    Ans:Dictionaries are used to store data in the form of key-value pairs,The keys of the dictionary act as index of the value."
   ]
  },
  {
   "cell_type": "markdown",
   "id": "677d81e8",
   "metadata": {},
   "source": [
    "Q5.Why might you use a set instead of a list in Python?\n",
    "    Ans:1. sets are use to store unique collection of element.\n",
    "    2. no dublicate element allowed in sets.\n",
    "    3. sets element does not uses any order.\n",
    "    4. stes are also mutable\n",
    "    5. we can perform various operations on sets like union,insertion etc"
   ]
  },
  {
   "cell_type": "markdown",
   "id": "7416fa98",
   "metadata": {},
   "source": [
    "Q6.What is a string in Python, and how is it different from a list?\n",
    "    Ans:string is a sequence of characters, enclosed either in single quotes (') or double quotes (\"). Strings are a type of immutable data structure, which means once created, their contents cannot be changed. They are used to represent textual data in your program.\n",
    "    Difference:\n",
    "    1.string are immutable but list are mutable.\n",
    "    2.it only contains charscters but list contains varios types.\n",
    "    3.we can perform string slicing.\n",
    "    4. we can iterate both string and list.\n",
    "    5. we can perform operation like Concatenation, slicing, formatting, etc."
   ]
  },
  {
   "cell_type": "markdown",
   "id": "120cf30c",
   "metadata": {},
   "source": [
    "Q7.How do tuples ensure data integrity in Python?\n",
    "    Ans:Tuples in Python are a type of immutable data structure, meaning once a tuple is created, its contents cannot be changed. This immutability helps ensure data integrity in the following ways:\n",
    "    1.Accidental Modification.\n",
    "    2.Memory Efficiency."
   ]
  },
  {
   "cell_type": "markdown",
   "id": "5d13a171",
   "metadata": {},
   "source": [
    "Q8.What is a hash table, and how does it relate to dictionaries in Python?\n",
    "    Ans:A hash table is a data structure that allows for fast data retrieval. It stores key-value pairs, where each key is hashed  to determine the index at which its corresponding value is stored. The hash table uses these indices to quickly look up values associated with a key.\n",
    "\n"
   ]
  },
  {
   "cell_type": "markdown",
   "id": "325f7c0c",
   "metadata": {},
   "source": [
    "Q9.Can lists contain different data types in Python?\\\n",
    "    Ans:Yes, lists in Python can contain different data types. A Python list is a heterogeneous collection, it means we can store elements of various types (such as integers, strings, floats, objects, other lists, etc.) within the same list."
   ]
  },
  {
   "cell_type": "markdown",
   "id": "f5aed3b6",
   "metadata": {},
   "source": [
    "Q10.Explain why strings are immutable in Python?\n",
    "    Ans:Strings are immutable in Python, meaning once a string is created, its content cannot be changed. This immutability plays an important role in ensuring both efficiency and safety in Python programs. \n",
    "    Strings are immutable due to \n",
    "    1. Efficiency and Performance\n",
    "    2.Predictability and Safety\n",
    "    3.Hashability\n",
    "    4.Optimization for Slicing and Copying"
   ]
  },
  {
   "cell_type": "markdown",
   "id": "4d5081bb",
   "metadata": {},
   "source": [
    "Q11.What advantages do dictionaries offer over lists for certain tasks?\n",
    "    Ans:advantages of dictionaries compared to lists:\n",
    "    1.Fast Lookups by Key \n",
    "    2.Key-Value Mapping\n",
    "    3.Unordered but Efficient Access\n",
    "    4,Avoid Duplicates\n",
    "    5.Flexible and Readable Data Representation"
   ]
  },
  {
   "cell_type": "markdown",
   "id": "0657c3b1",
   "metadata": {},
   "source": [
    "Q12.Describe a scenario where using a tuple would be preferable over a list?\n",
    "    Ans:in real world we can use tuple over list in companies to store employee ids which should not be further changable , due to immutablity of tuple ."
   ]
  },
  {
   "cell_type": "markdown",
   "id": "3fe0258d",
   "metadata": {},
   "source": [
    "Q13.How do sets handle duplicate values in Python?\n",
    "    Ans:sets are unordered collections of unique elements. They automatically remove duplicate values, meaning that a set will only contain one instance of any value, even if you try to add the same value multiple times."
   ]
  },
  {
   "cell_type": "markdown",
   "id": "748496d0",
   "metadata": {},
   "source": [
    "Q14. How does the “in” keyword work differently for lists and dictionaries?\n",
    "    Ans:The in keyword in Python is used to check for the presence of an element in a collection (like a list, dictionary, set, etc.). However, the way it works differs between lists and dictionaries, because they are fundamentally different data structures."
   ]
  },
  {
   "cell_type": "markdown",
   "id": "fb4a41bb",
   "metadata": {},
   "source": [
    "Q15.Can you modify the elements of a tuple? Explain why or why not?\n",
    "    Ans:No, wecannot modify the elements of a tuple in Python. This is because tuples are immutable data structures, which means once a tuple is created, its contents cannot be changed, added, or removed."
   ]
  },
  {
   "cell_type": "markdown",
   "id": "aa2adbef",
   "metadata": {},
   "source": [
    "Q16.What is a nested dictionary, and give an example of its use case?\n",
    "    Ans:A nested dictionary in Python is simply a dictionary where the values themselves are also dictionaries (or any other data structures like lists or sets). This allows you to create complex hierarchical data structures, which can be useful for organizing and managing data that has multiple levels of related information.\n",
    "    EX.# A dictionary to store student grades for different subjects\n",
    "students = {\n",
    "    \"Alice\": {\n",
    "        \"Math\": 90,\n",
    "        \"Science\": 85\n",
    "    },\n",
    "    \"Bob\": {\n",
    "        \"Math\": 75,\n",
    "        \"Science\": 80\n",
    "    },\n",
    "    \"Charlie\": {\n",
    "        \"Math\": 95,\n",
    "        \"Science\": 92\n",
    "    }\n",
    "}\n",
    "\n",
    "# Accessing data from the nested dictionary\n",
    "print(students[\"Alice\"][\"Math\"])  # Output: 90\n",
    "print(students[\"Bob\"][\"Science\"])  # Output: 80\n"
   ]
  },
  {
   "cell_type": "markdown",
   "id": "87b08c30",
   "metadata": {},
   "source": [
    "Q17.Describe the time complexity of accessing elements in a dictionary?\n",
    "    Ans:dictionaries are implemented using hash tables, which allows for efficient lookups. The time complexity of accessing elements in a dictionary is generally O(1), meaning that dictionary lookups can be done in constant time on average."
   ]
  },
  {
   "cell_type": "markdown",
   "id": "63a156fe",
   "metadata": {},
   "source": [
    "Q18.In what situations are lists preferred over dictionaries?\n",
    "    Ans:lists and dictionaries serve different purposes and are optimized for different use cases. Lists are preferred over dictionaries in situations where:1.When You Need to Access Elements by Index\n",
    "    2. When You Need to Perform Operations on Sequences\n",
    "    3.When You Need to Store Homogeneous Data"
   ]
  },
  {
   "cell_type": "markdown",
   "id": "2470710d",
   "metadata": {},
   "source": [
    "Q19. Why are dictionaries considered unordered, and how does that affect data retrieval?\n",
    "    Ans:dictionaries are considered unordered because they do not guarantee that the elements (key-value pairs) will maintain the order in which they were added However, dictionaries preserve insertion order (i.e., the order in which key-value pairs are added is maintained when iterating over them)."
   ]
  },
  {
   "cell_type": "markdown",
   "id": "d1b83cd9",
   "metadata": {},
   "source": [
    "Q20.Explain the difference between a list and a dictionary in terms of data retrieval?\n",
    "    Ans:    The key difference between a list and a dictionary in terms of data retrieval lies in how the data is organized and accessed. dictionaries are considered unordered because they do not guarantee that the elements (key-value pairs) will maintain the order in which they were added However, dictionaries preserve insertion order (i.e., the order in which key-value pairs are added is maintained when iterating over them).\n",
    "    "
   ]
  },
  {
   "cell_type": "markdown",
   "id": "9c223236",
   "metadata": {},
   "source": [
    "#PRACTICAL QUESTON"
   ]
  },
  {
   "cell_type": "code",
   "execution_count": 1,
   "id": "d63e8e97",
   "metadata": {},
   "outputs": [
    {
     "name": "stdout",
     "output_type": "stream",
     "text": [
      "aman\n"
     ]
    }
   ],
   "source": [
    "#Q1.Write a code to create a string with your name and print it?\n",
    "name = \"aman\"\n",
    "print(f\"{name}\")"
   ]
  },
  {
   "cell_type": "code",
   "execution_count": 2,
   "id": "60089f2c",
   "metadata": {},
   "outputs": [
    {
     "data": {
      "text/plain": [
       "11"
      ]
     },
     "execution_count": 2,
     "metadata": {},
     "output_type": "execute_result"
    }
   ],
   "source": [
    "#Q2.Write a code to find the length of the string \"Hello World\"?\n",
    "s = \"Hello World\"\n",
    "len(s)"
   ]
  },
  {
   "cell_type": "code",
   "execution_count": 5,
   "id": "de77663a",
   "metadata": {},
   "outputs": [
    {
     "data": {
      "text/plain": [
       "'Pyt'"
      ]
     },
     "execution_count": 5,
     "metadata": {},
     "output_type": "execute_result"
    }
   ],
   "source": [
    "#Q3.Write a code to slice the first 3 characters from the string \"Python Programming\"?\n",
    "s =\"Python Programming\"\n",
    "s[0:3]"
   ]
  },
  {
   "cell_type": "code",
   "execution_count": 10,
   "id": "5ce5cdd7",
   "metadata": {},
   "outputs": [
    {
     "data": {
      "text/plain": [
       "'HELLO'"
      ]
     },
     "execution_count": 10,
     "metadata": {},
     "output_type": "execute_result"
    }
   ],
   "source": [
    "#Q4.Write a code to convert the string \"hello\" to uppercase\n",
    "s = \"hello\"\n",
    "s.upper()"
   ]
  },
  {
   "cell_type": "code",
   "execution_count": null,
   "id": "e587a14e",
   "metadata": {},
   "outputs": [
    {
     "data": {
      "text/plain": [
       "'I like orange'"
      ]
     },
     "execution_count": 11,
     "metadata": {},
     "output_type": "execute_result"
    }
   ],
   "source": [
    "#Q5.Write a code to replace the word \"apple\" with \"orange\" in the string \"I like apple\"?\n",
    "word = \"I like apple\"\n",
    "new_word=word.replace(\"apple\",\"orange\")"
   ]
  },
  {
   "cell_type": "code",
   "execution_count": 12,
   "id": "e5f3e917",
   "metadata": {},
   "outputs": [
    {
     "name": "stdout",
     "output_type": "stream",
     "text": [
      "[1, 2, 3, 4, 5]\n"
     ]
    }
   ],
   "source": [
    "#Q6.Write a code to create a list with numbers 1 to 5 and print it?\n",
    "no_list = [1,2,3,4,5]\n",
    "print(no_list)"
   ]
  },
  {
   "cell_type": "code",
   "execution_count": 14,
   "id": "32e4290b",
   "metadata": {},
   "outputs": [
    {
     "name": "stdout",
     "output_type": "stream",
     "text": [
      "[1, 2, 3, 4, 10]\n"
     ]
    }
   ],
   "source": [
    "#Q7. Write a code to append the number 10 to the list [1, 2, 3, 4]?\n",
    "list = [1, 2, 3, 4]\n",
    "list.append(10)\n",
    "print(list)"
   ]
  },
  {
   "cell_type": "code",
   "execution_count": 15,
   "id": "351708d3",
   "metadata": {},
   "outputs": [
    {
     "name": "stdout",
     "output_type": "stream",
     "text": [
      "[1, 2, 4, 5]\n"
     ]
    }
   ],
   "source": [
    "#Q8.Write a code to remove the number 3 from the list [1, 2, 3, 4, 5]?\n",
    "list =[1, 2, 3, 4, 5]\n",
    "list.remove(3)\n",
    "print(list)\n"
   ]
  },
  {
   "cell_type": "code",
   "execution_count": 17,
   "id": "e5c8a810",
   "metadata": {},
   "outputs": [
    {
     "data": {
      "text/plain": [
       "'b'"
      ]
     },
     "execution_count": 17,
     "metadata": {},
     "output_type": "execute_result"
    }
   ],
   "source": [
    "#Q9. Write a code to access the second element in the list ['a', 'b', 'c', 'd']P\n",
    "list =['a', 'b', 'c', 'd']\n",
    "list[1]"
   ]
  },
  {
   "cell_type": "code",
   "execution_count": 23,
   "id": "a2b7a1e6",
   "metadata": {},
   "outputs": [
    {
     "data": {
      "text/plain": [
       "[50, 40, 30, 20, 10]"
      ]
     },
     "execution_count": 23,
     "metadata": {},
     "output_type": "execute_result"
    }
   ],
   "source": [
    "#Q10.Write a code to reverse the list [10, 20, 30, 40, 50].\n",
    "list =[10, 20, 30, 40, 50]\n",
    "list[::-1]"
   ]
  },
  {
   "cell_type": "code",
   "execution_count": 24,
   "id": "30fed70a",
   "metadata": {},
   "outputs": [
    {
     "name": "stdout",
     "output_type": "stream",
     "text": [
      "(0, 200, 300)\n"
     ]
    }
   ],
   "source": [
    "#Q11.Write a code to create a tuple with the elements 100, 200, 300 and print it.\n",
    "t = (00, 200, 300 )\n",
    "print(t)"
   ]
  },
  {
   "cell_type": "code",
   "execution_count": 25,
   "id": "d9cf749f",
   "metadata": {},
   "outputs": [
    {
     "data": {
      "text/plain": [
       "('yellow', 'blue')"
      ]
     },
     "execution_count": 25,
     "metadata": {},
     "output_type": "execute_result"
    }
   ],
   "source": [
    "#Q12. Write a code to access the second-to-last element of the tuple ('red', 'green', 'blue', 'yellow').\n",
    "t = ('red', 'green', 'blue', 'yellow')\n",
    "t[:-3:-1]"
   ]
  },
  {
   "cell_type": "code",
   "execution_count": 26,
   "id": "1eec3a32",
   "metadata": {},
   "outputs": [
    {
     "data": {
      "text/plain": [
       "5"
      ]
     },
     "execution_count": 26,
     "metadata": {},
     "output_type": "execute_result"
    }
   ],
   "source": [
    "#Q13. Write a code to find the minimum number in the tuple (10, 20, 5, 15).\n",
    "t =(10, 20, 5, 15)\n",
    "min(t)"
   ]
  },
  {
   "cell_type": "code",
   "execution_count": 32,
   "id": "ad33dd68",
   "metadata": {},
   "outputs": [
    {
     "data": {
      "text/plain": [
       "1"
      ]
     },
     "execution_count": 32,
     "metadata": {},
     "output_type": "execute_result"
    }
   ],
   "source": [
    "#Q14.Write a code to find the index of the element \"cat\" in the tuple ('dog', 'cat', 'rabbit').\n",
    "t = ('dog', 'cat', 'rabbit')\n",
    "t.index(\"cat\")"
   ]
  },
  {
   "cell_type": "code",
   "execution_count": 33,
   "id": "face8144",
   "metadata": {},
   "outputs": [
    {
     "data": {
      "text/plain": [
       "True"
      ]
     },
     "execution_count": 33,
     "metadata": {},
     "output_type": "execute_result"
    }
   ],
   "source": [
    "#Q15.Write a code to create a tuple containing three different fruits and check if \"kiwi\" is in it.\n",
    "t = ('apple','mango','kiwi')\n",
    "'kiwi' in t"
   ]
  },
  {
   "cell_type": "code",
   "execution_count": 34,
   "id": "5debffd6",
   "metadata": {},
   "outputs": [
    {
     "name": "stdout",
     "output_type": "stream",
     "text": [
      "{'a', 'b', 'c'}\n"
     ]
    }
   ],
   "source": [
    "#Q16.Write a code to create a set with the elements 'a', 'b', 'c' and print it.\n",
    "s = {'a', 'b','c'}\n",
    "print(s)"
   ]
  },
  {
   "cell_type": "code",
   "execution_count": 36,
   "id": "7d09eef1",
   "metadata": {},
   "outputs": [
    {
     "name": "stdout",
     "output_type": "stream",
     "text": [
      "set()\n"
     ]
    }
   ],
   "source": [
    "#Q17. Write a code to clear all elements from the set {1, 2, 3, 4, 5}.\n",
    "s = {1, 2, 3, 4, 5}\n",
    "s.clear()\n",
    "print(s)"
   ]
  },
  {
   "cell_type": "code",
   "execution_count": 41,
   "id": "fb777477",
   "metadata": {},
   "outputs": [
    {
     "name": "stdout",
     "output_type": "stream",
     "text": [
      "{1, 2, 3}\n"
     ]
    }
   ],
   "source": [
    "#Q18.Write a code to remove the element 4 from the set {1, 2, 3, 4}.\n",
    "s = {1, 2, 3, 4}\n",
    "s.remove(4)\n",
    "print(s)"
   ]
  },
  {
   "cell_type": "code",
   "execution_count": 42,
   "id": "44ac46d2",
   "metadata": {},
   "outputs": [
    {
     "data": {
      "text/plain": [
       "{1, 2, 3, 4, 5}"
      ]
     },
     "execution_count": 42,
     "metadata": {},
     "output_type": "execute_result"
    }
   ],
   "source": [
    "#Q19.Write a code to find the union of two sets {1, 2, 3} and {3, 4, 5}.\n",
    "a = {1, 2, 3}\n",
    "b = {3, 4, 5}\n",
    "a|b"
   ]
  },
  {
   "cell_type": "code",
   "execution_count": 43,
   "id": "52db3cb1",
   "metadata": {},
   "outputs": [
    {
     "data": {
      "text/plain": [
       "{2, 3}"
      ]
     },
     "execution_count": 43,
     "metadata": {},
     "output_type": "execute_result"
    }
   ],
   "source": [
    "#Q20.Write a code to find the intersection of two sets {1, 2, 3} and {2, 3, 4}.\n",
    "a = {1, 2, 3}\n",
    "b = {2,3, 4}\n",
    "a&b"
   ]
  },
  {
   "cell_type": "code",
   "execution_count": 44,
   "id": "11ea87d2",
   "metadata": {},
   "outputs": [
    {
     "name": "stdout",
     "output_type": "stream",
     "text": [
      "{'name': 'aman', 'age': 20, 'city': 'ranchi'}\n"
     ]
    }
   ],
   "source": [
    "#Q21. Write a code to create a dictionary with the keys \"name\", \"age\", and \"city\", and print it\n",
    "\n",
    "dict = {\n",
    "    \"name\": \"aman\",\n",
    "    \"age\": 20,\n",
    "    \"city\": \"ranchi\"\n",
    "}\n",
    "\n",
    "\n",
    "print(dict)\n"
   ]
  },
  {
   "cell_type": "code",
   "execution_count": 46,
   "id": "637c603a",
   "metadata": {},
   "outputs": [
    {
     "name": "stdout",
     "output_type": "stream",
     "text": [
      "{'name': 'aman', 'age': 20, 'city': 'ranchi', 'country': 'USA'}\n"
     ]
    }
   ],
   "source": [
    "#Q22.Write a code to add a new key-value pair \"country\": \"USA\" to the dictionary {'name': 'John', 'age': 25}.\n",
    "dict = {\n",
    "    \"name\": \"aman\",\n",
    "    \"age\": 20,\n",
    "    \"city\": \"ranchi\"\n",
    "}\n",
    "dict.update({\"country\": \"USA\"})\n",
    "print(dict)"
   ]
  },
  {
   "cell_type": "code",
   "execution_count": 48,
   "id": "abc08f2e",
   "metadata": {},
   "outputs": [
    {
     "data": {
      "text/plain": [
       "'Alice'"
      ]
     },
     "execution_count": 48,
     "metadata": {},
     "output_type": "execute_result"
    }
   ],
   "source": [
    "#Q23.Write a code to access the value associated with the key \"name\" in the dictionary {'name': 'Alice', 'age': 30}.\n",
    "dic= {'name': 'Alice', 'age': 30}\n",
    "dic['name']"
   ]
  },
  {
   "cell_type": "code",
   "execution_count": 49,
   "id": "7429442a",
   "metadata": {},
   "outputs": [
    {
     "name": "stdout",
     "output_type": "stream",
     "text": [
      "{'name': 'Bob', 'city': 'New York'}\n"
     ]
    }
   ],
   "source": [
    "#Q24Write a code to remove the key \"age\" from the dictionary {'name': 'Bob', 'age': 22, 'city': 'New York'}.\n",
    "\n",
    "my_dict = {'name': 'Bob', 'age': 22, 'city': 'New York'}\n",
    "\n",
    "\n",
    "del my_dict['age']\n",
    "\n",
    "print(my_dict)\n"
   ]
  },
  {
   "cell_type": "code",
   "execution_count": 50,
   "id": "9e0c126f",
   "metadata": {},
   "outputs": [
    {
     "data": {
      "text/plain": [
       "True"
      ]
     },
     "execution_count": 50,
     "metadata": {},
     "output_type": "execute_result"
    }
   ],
   "source": [
    "#Q25.Write a code to check if the key \"city\" exists in the dictionary {'name': 'Alice', 'city': 'Paris'}\n",
    "s = {'name': 'Alice', 'city': 'Paris'}\n",
    "'city' in s"
   ]
  },
  {
   "cell_type": "code",
   "execution_count": 51,
   "id": "2a2f72fc",
   "metadata": {},
   "outputs": [
    {
     "name": "stdout",
     "output_type": "stream",
     "text": [
      "List: [1, 2, 3, 4, 5]\n",
      "Tuple: ('apple', 'banana', 'cherry')\n",
      "Dictionary: {'name': 'Alice', 'age': 30, 'city': 'London'}\n"
     ]
    }
   ],
   "source": [
    "#Q26. Write a code to create a list, a tuple, and a dictionary, and print them all.\n",
    "# Create a list\n",
    "list = [1, 2, 3, 4, 5]\n",
    "\n",
    "# Create a tuple\n",
    "tuple = ('apple', 'banana', 'cherry')\n",
    "\n",
    "# Create a dictionary\n",
    "dict = {'name': 'Alice', 'age': 30, 'city': 'London'}\n",
    "\n",
    "# Print the list, tuple, and dictionary\n",
    "print(\"List:\", list)\n",
    "print(\"Tuple:\", tuple)\n",
    "print(\"Dictionary:\", dict)\n"
   ]
  },
  {
   "cell_type": "code",
   "execution_count": 54,
   "id": "8cd7bdd4",
   "metadata": {},
   "outputs": [
    {
     "name": "stdout",
     "output_type": "stream",
     "text": [
      "[1, 25, 30, 60, 99]\n"
     ]
    }
   ],
   "source": [
    "#Q27.Write a code to create a list of 5 random numbers between 1 and 100, sort it in ascending order, and print the\n",
    "#result.(replaced)\n",
    "list = [1,30,25,99,60]\n",
    "list.sort()\n",
    "print(list)"
   ]
  },
  {
   "cell_type": "code",
   "execution_count": 55,
   "id": "89eee3cf",
   "metadata": {},
   "outputs": [
    {
     "name": "stdout",
     "output_type": "stream",
     "text": [
      "Element at third index: date\n"
     ]
    }
   ],
   "source": [
    "#Q28.Write a code to create a list with strings and print the element at the third index.\n",
    "# Create a list with strings\n",
    "my_list = [\"apple\", \"banana\", \"cherry\", \"date\", \"elderberry\"]\n",
    "\n",
    "# Print the element at the third index\n",
    "print(\"Element at third index:\", my_list[3])\n"
   ]
  },
  {
   "cell_type": "code",
   "execution_count": 61,
   "id": "95c79b4f",
   "metadata": {},
   "outputs": [
    {
     "name": "stdout",
     "output_type": "stream",
     "text": [
      "{'name': 'Alice', 'age': 30, 'city': 'New York'}\n"
     ]
    }
   ],
   "source": [
    "#Q29.Write a code to combine two dictionaries into one and print the result.\n",
    "my_dict = {'name': 'Bob', 'age': 22, 'city': 'New York'}\n",
    "dic= {'name': 'Alice', 'age': 30}\n",
    "my_dict.update(dic)\n",
    "print(my_dict)\n"
   ]
  },
  {
   "cell_type": "code",
   "execution_count": 62,
   "id": "554df414",
   "metadata": {},
   "outputs": [
    {
     "name": "stdout",
     "output_type": "stream",
     "text": [
      "Converted set: {'banana', 'apple', 'date', 'cherry'}\n"
     ]
    }
   ],
   "source": [
    "#Q30.Write a code to convert a list of strings into a set\n",
    "# List of strings\n",
    "my_list = [\"apple\", \"banana\", \"cherry\", \"apple\", \"date\", \"banana\"]\n",
    "\n",
    "# Convert the list to a set\n",
    "my_set = set(my_list)\n",
    "\n",
    "# Print the set\n",
    "print(\"Converted set:\", my_set)\n"
   ]
  }
 ],
 "metadata": {
  "kernelspec": {
   "display_name": "Python 3",
   "language": "python",
   "name": "python3"
  },
  "language_info": {
   "codemirror_mode": {
    "name": "ipython",
    "version": 3
   },
   "file_extension": ".py",
   "mimetype": "text/x-python",
   "name": "python",
   "nbconvert_exporter": "python",
   "pygments_lexer": "ipython3",
   "version": "3.13.2"
  }
 },
 "nbformat": 4,
 "nbformat_minor": 5
}
